{
 "cells": [
  {
   "cell_type": "code",
   "execution_count": 3,
   "id": "c1d2b9dd-6ca8-4b55-b69f-048acb484df3",
   "metadata": {},
   "outputs": [
    {
     "name": "stdin",
     "output_type": "stream",
     "text": [
      "Enter your first name:  Sgaili Srikanth \n",
      "Enter your last name:  Reddy\n"
     ]
    },
    {
     "name": "stdout",
     "output_type": "stream",
     "text": [
      "Full name:  Sgaili Srikanth  Reddy\n",
      "Every other character in the full name:  Sal rknh ed\n"
     ]
    }
   ],
   "source": [
    "def fullname(first_name, last_name):\n",
    "    return first_name + \" \" + last_name\n",
    "\n",
    "def string_alternative(full_name):\n",
    "    return full_name[::2]\n",
    "\n",
    "first_name = input(\"Enter your first name: \")\n",
    "last_name = input(\"Enter your last name: \")\n",
    "full_name = fullname(first_name, last_name)\n",
    "print(\"Full name: \", full_name)\n",
    "print(\"Every other character in the full name: \", string_alternative(full_name))\n"
   ]
  },
  {
   "cell_type": "code",
   "execution_count": 4,
   "id": "b39211bb-7e3f-49e5-b3b7-1879701dc57d",
   "metadata": {},
   "outputs": [
    {
     "name": "stdout",
     "output_type": "stream",
     "text": [
      "Output:\n",
      "Input:\n",
      "Sagili Srikanth Reddy\n",
      " Sagili Srinath Reddy\n",
      "Output:\n",
      "Word_Count:\n",
      "line\n",
      "sagili      2\n",
      "reddy       2\n",
      "srikanth    1\n",
      "srinath     1\n"
     ]
    }
   ],
   "source": [
    "import pandas as pd\n",
    "text = pd.read_csv(\"input.txt\", header=None, names=[\"line\"])\n",
    "words = text[\"line\"].str.lower().str.split().explode()\n",
    "word_count = words.value_counts()\n",
    "with open(\"output.txt\", \"w\") as output_file:\n",
    "    output_file.write(\"Input:\\n\")\n",
    "    output_file.write(text.to_string(index=False, header=False))\n",
    "    output_file.write(\"\\nOutput:\\n\")\n",
    "    output_file.write(\"Word_Count:\\n\")\n",
    "    output_file.write(word_count.to_string())\n",
    "print(\"Output:\")\n",
    "with open(\"output.txt\", \"r\") as output_file:\n",
    "    print(output_file.read())"
   ]
  },
  {
   "cell_type": "code",
   "execution_count": 7,
   "id": "a92dc2b4-0239-4432-b4c0-ec1db7be167e",
   "metadata": {},
   "outputs": [
    {
     "name": "stdin",
     "output_type": "stream",
     "text": [
      "Enter heights in inches separated by commas:  10,20,30,40,50\n"
     ]
    },
    {
     "name": "stdout",
     "output_type": "stream",
     "text": [
      "Using Nested Interactive Loop: [25.4, 50.8, 76.2, 101.6, 127.0]\n",
      "Using List Comprehension: [25.4, 50.8, 76.2, 101.6, 127.0]\n"
     ]
    }
   ],
   "source": [
    "def convert_heights_nested(heights_inches):\n",
    "    heights_cm = []\n",
    "    for height in heights_inches:\n",
    "        height_cm = round(height * 2.54, 2)\n",
    "        heights_cm.append(height_cm)\n",
    "    return heights_cm\n",
    "\n",
    "def convert_heights_list_comprehension(heights_inches):\n",
    "    heights_cm = [round(height * 2.54, 2) for height in heights_inches]\n",
    "    return heights_cm\n",
    "\n",
    "def get_user_input():\n",
    "    heights_input = input(\"Enter heights in inches separated by commas: \")\n",
    "    heights_list = [float(height.strip()) for height in heights_input.split(',')]\n",
    "    return heights_list\n",
    "\n",
    "user_heights = get_user_input()\n",
    "\n",
    "result_nested = convert_heights_nested(user_heights)\n",
    "print(\"Using Nested Interactive Loop:\", result_nested)\n",
    "\n",
    "result_comprehension = convert_heights_list_comprehension(user_heights)\n",
    "print(\"Using List Comprehension:\", result_comprehension)"
   ]
  },
  {
   "cell_type": "code",
   "execution_count": null,
   "id": "f533e474-2860-4a42-8241-9fc9ab4e751a",
   "metadata": {},
   "outputs": [],
   "source": []
  }
 ],
 "metadata": {
  "kernelspec": {
   "display_name": "Python 3 (ipykernel)",
   "language": "python",
   "name": "python3"
  },
  "language_info": {
   "codemirror_mode": {
    "name": "ipython",
    "version": 3
   },
   "file_extension": ".py",
   "mimetype": "text/x-python",
   "name": "python",
   "nbconvert_exporter": "python",
   "pygments_lexer": "ipython3",
   "version": "3.12.1"
  }
 },
 "nbformat": 4,
 "nbformat_minor": 5
}
